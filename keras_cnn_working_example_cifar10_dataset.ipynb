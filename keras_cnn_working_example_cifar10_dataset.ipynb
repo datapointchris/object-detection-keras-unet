{
 "cells": [
  {
   "cell_type": "markdown",
   "metadata": {},
   "source": [
    "# Keras Working Example"
   ]
  },
  {
   "cell_type": "code",
   "execution_count": null,
   "metadata": {},
   "outputs": [],
   "source": [
    "# Only for 2018 MBP\n",
    "# Install the plaidml backend\n",
    "## DO THIS BEFORE IMPORTING KERAS OR TENSORFLOW TO USE PLAIDML\n",
    "import plaidml.keras\n",
    "plaidml.keras.install_backend()\n",
    "\n",
    "# Help MacOS be able to use Keras\n",
    "import os\n",
    "os.environ[\"KERAS_BACKEND\"] = \"plaidml.keras.backend\"\n",
    "# Gets rid of the processor warning.\n",
    "os.environ['KMP_DUPLICATE_LIB_OK']='True'"
   ]
  },
  {
   "cell_type": "code",
   "execution_count": 2,
   "metadata": {},
   "outputs": [
    {
     "data": {
      "application/vnd.jupyter.widget-view+json": {
       "model_id": "51eaa347b8624273b238d1a82f14d8d3",
       "version_major": 2,
       "version_minor": 0
      },
      "text/plain": [
       "HBox(children=(FloatProgress(value=1.0, bar_style='info', max=1.0), HTML(value='')))"
      ]
     },
     "metadata": {},
     "output_type": "display_data"
    },
    {
     "data": {
      "application/vnd.jupyter.widget-view+json": {
       "model_id": "5c444d52ee454cd6a0f916056a65741c",
       "version_major": 2,
       "version_minor": 0
      },
      "text/plain": [
       "HBox(children=(FloatProgress(value=1.0, bar_style='info', max=1.0), HTML(value='')))"
      ]
     },
     "metadata": {},
     "output_type": "display_data"
    }
   ],
   "source": [
    "## Use this as callback on .fit (callbacks=[cb])\n",
    "## NOT necessary\n",
    "\n",
    "# better progress bars for jupyter and won't kill model fit\n",
    "# Command line the following line to get tqdm installed properly\n",
    "# python -m pip install tqdm\n",
    "from tqdm.keras import TqdmCallback\n",
    "# keras, model definition...\n",
    "cb = TqdmCallback()\n",
    "setattr(cb,'on_train_batch_begin',lambda x,y:None)\n",
    "setattr(cb,'on_train_batch_end',lambda x,y:None)"
   ]
  },
  {
   "cell_type": "code",
   "execution_count": 3,
   "metadata": {},
   "outputs": [
    {
     "name": "stderr",
     "output_type": "stream",
     "text": [
      "/Users/chris/opt/anaconda3/lib/python3.7/importlib/_bootstrap.py:219: RuntimeWarning: numpy.ufunc size changed, may indicate binary incompatibility. Expected 192 from C header, got 216 from PyObject\n",
      "  return f(*args, **kwds)\n",
      "/Users/chris/opt/anaconda3/lib/python3.7/importlib/_bootstrap.py:219: RuntimeWarning: numpy.ufunc size changed, may indicate binary incompatibility. Expected 192 from C header, got 216 from PyObject\n",
      "  return f(*args, **kwds)\n",
      "/Users/chris/opt/anaconda3/lib/python3.7/importlib/_bootstrap.py:219: RuntimeWarning: numpy.ufunc size changed, may indicate binary incompatibility. Expected 192 from C header, got 216 from PyObject\n",
      "  return f(*args, **kwds)\n"
     ]
    }
   ],
   "source": [
    "import numpy as np\n",
    "from keras.preprocessing.image import img_to_array\n",
    "from keras.datasets import mnist\n",
    "from keras.models import Sequential, Model\n",
    "from keras.layers import Dense, Dropout, Flatten, Activation, Input\n",
    "from keras.layers import Conv2D, MaxPooling2D\n",
    "from keras import backend as K\n",
    "from keras.preprocessing.image import ImageDataGenerator\n",
    "from sklearn.model_selection import train_test_split\n",
    "import pandas as pd\n",
    "import time\n",
    "import glob\n",
    "import cv2\n",
    "import os\n",
    "import matplotlib.pyplot as plt\n",
    "import keras\n",
    "from keras.datasets import cifar10"
   ]
  },
  {
   "cell_type": "markdown",
   "metadata": {},
   "source": [
    "### Constants"
   ]
  },
  {
   "cell_type": "code",
   "execution_count": 4,
   "metadata": {},
   "outputs": [],
   "source": [
    "batch_size = 1\n",
    "num_classes = 10\n",
    "epochs = 100\n",
    "data_augmentation = False\n",
    "num_predictions = 20\n",
    "save_dir = os.path.join('../data/')\n",
    "model_name = 'keras_cifar10_trained_model.h5'"
   ]
  },
  {
   "cell_type": "markdown",
   "metadata": {},
   "source": [
    "### Use Keras provided data"
   ]
  },
  {
   "cell_type": "code",
   "execution_count": 6,
   "metadata": {},
   "outputs": [
    {
     "name": "stdout",
     "output_type": "stream",
     "text": [
      "x_train shape: (50000, 32, 32, 3)\n",
      "50000 train samples\n",
      "10000 test samples\n",
      "y_train shape: (50000, 1)\n",
      "50000 train samples\n",
      "10000 test samples\n"
     ]
    }
   ],
   "source": [
    "# The data, split between train and test sets:\n",
    "(x_train, y_train), (x_test, y_test) = cifar10.load_data()\n",
    "print('x_train shape:', x_train.shape)\n",
    "print(x_train.shape[0], 'train samples')\n",
    "print(x_test.shape[0], 'test samples')\n",
    "print('y_train shape:', y_train.shape)\n",
    "print(y_train.shape[0], 'train samples')\n",
    "print(y_test.shape[0], 'test samples')"
   ]
  },
  {
   "cell_type": "code",
   "execution_count": 7,
   "metadata": {},
   "outputs": [],
   "source": [
    "# Convert class vectors to binary class matrices.\n",
    "y_train = keras.utils.to_categorical(y_train, num_classes)\n",
    "y_test = keras.utils.to_categorical(y_test, num_classes)"
   ]
  },
  {
   "cell_type": "code",
   "execution_count": 38,
   "metadata": {},
   "outputs": [],
   "source": [
    "model = Sequential()\n",
    "model.add(Conv2D(32, (3, 3), padding='same',\n",
    "                 input_shape=x_train.shape[1:]))\n",
    "model.add(Activation('relu'))\n",
    "model.add(Conv2D(32, (3, 3)))\n",
    "model.add(Activation('relu'))\n",
    "model.add(MaxPooling2D(pool_size=(2, 2)))\n",
    "model.add(Dropout(0.25))\n",
    "\n",
    "model.add(Conv2D(64, (3, 3), padding='same'))\n",
    "model.add(Activation('relu'))\n",
    "model.add(Conv2D(64, (3, 3)))\n",
    "model.add(Activation('relu'))\n",
    "model.add(MaxPooling2D(pool_size=(2, 2)))\n",
    "model.add(Dropout(0.25))\n",
    "\n",
    "model.add(Flatten())\n",
    "model.add(Dense(512))\n",
    "model.add(Activation('relu'))\n",
    "model.add(Dropout(0.5))\n",
    "model.add(Dense(num_classes))\n",
    "model.add(Activation('softmax'))\n",
    "\n",
    "# initiate RMSprop optimizer\n",
    "opt = keras.optimizers.rmsprop(lr=0.0001, decay=1e-6)\n",
    "\n",
    "# Let's train the model using RMSprop\n",
    "model.compile(loss='categorical_crossentropy',\n",
    "              optimizer=opt,\n",
    "              metrics=['accuracy'])"
   ]
  },
  {
   "cell_type": "code",
   "execution_count": 39,
   "metadata": {},
   "outputs": [],
   "source": [
    "# This is equivalent to scaling\n",
    "x_train = x_train.astype('float32')\n",
    "x_test = x_test.astype('float32')\n",
    "x_train /= 255\n",
    "x_test /= 255"
   ]
  },
  {
   "cell_type": "code",
   "execution_count": 40,
   "metadata": {
    "scrolled": false
   },
   "outputs": [
    {
     "name": "stdout",
     "output_type": "stream",
     "text": [
      "Not using data augmentation.\n",
      "Train on 50000 samples, validate on 10000 samples\n",
      "Epoch 1/100\n",
      "50000/50000 [==============================] - 6s 115us/step - loss: 1.8975 - acc: 0.3036 - val_loss: 1.7040 - val_acc: 0.3961\n",
      "Epoch 2/100\n",
      "50000/50000 [==============================] - 5s 104us/step - loss: 1.5639 - acc: 0.4307 - val_loss: 1.5114 - val_acc: 0.4543\n",
      "Epoch 3/100\n",
      "50000/50000 [==============================] - 5s 107us/step - loss: 1.4390 - acc: 0.4801 - val_loss: 1.4117 - val_acc: 0.4930\n",
      "Epoch 4/100\n",
      "50000/50000 [==============================] - 5s 109us/step - loss: 1.3462 - acc: 0.5138 - val_loss: 1.3032 - val_acc: 0.5433\n",
      "Epoch 5/100\n",
      "50000/50000 [==============================] - 5s 107us/step - loss: 1.2735 - acc: 0.5457 - val_loss: 1.2295 - val_acc: 0.5638\n",
      "Epoch 6/100\n",
      "50000/50000 [==============================] - 6s 111us/step - loss: 1.2129 - acc: 0.5671 - val_loss: 1.1342 - val_acc: 0.5958\n",
      "Epoch 7/100\n",
      "50000/50000 [==============================] - 5s 108us/step - loss: 1.1571 - acc: 0.5899 - val_loss: 1.1163 - val_acc: 0.6109\n",
      "Epoch 8/100\n",
      "50000/50000 [==============================] - 5s 108us/step - loss: 1.1137 - acc: 0.6060 - val_loss: 1.0294 - val_acc: 0.6352\n",
      "Epoch 9/100\n",
      "50000/50000 [==============================] - 5s 108us/step - loss: 1.0733 - acc: 0.6198 - val_loss: 1.0663 - val_acc: 0.6192\n",
      "Epoch 10/100\n",
      "50000/50000 [==============================] - 5s 109us/step - loss: 1.0383 - acc: 0.6340 - val_loss: 0.9885 - val_acc: 0.6508\n",
      "Epoch 11/100\n",
      "50000/50000 [==============================] - 5s 108us/step - loss: 1.0058 - acc: 0.6462 - val_loss: 0.9473 - val_acc: 0.6658\n",
      "Epoch 12/100\n",
      "50000/50000 [==============================] - 5s 108us/step - loss: 0.9753 - acc: 0.6567 - val_loss: 0.9613 - val_acc: 0.6631\n",
      "Epoch 13/100\n",
      "50000/50000 [==============================] - 5s 108us/step - loss: 0.9505 - acc: 0.6677 - val_loss: 0.9418 - val_acc: 0.6633\n",
      "Epoch 14/100\n",
      "50000/50000 [==============================] - 5s 109us/step - loss: 0.9271 - acc: 0.6739 - val_loss: 0.8788 - val_acc: 0.6883\n",
      "Epoch 15/100\n",
      "50000/50000 [==============================] - 5s 107us/step - loss: 0.9007 - acc: 0.6855 - val_loss: 0.8767 - val_acc: 0.6937\n",
      "Epoch 16/100\n",
      "50000/50000 [==============================] - 5s 108us/step - loss: 0.8830 - acc: 0.6895 - val_loss: 0.8621 - val_acc: 0.6923\n",
      "Epoch 17/100\n",
      "50000/50000 [==============================] - 5s 108us/step - loss: 0.8617 - acc: 0.7000 - val_loss: 0.8468 - val_acc: 0.7056\n",
      "Epoch 18/100\n",
      "50000/50000 [==============================] - 5s 108us/step - loss: 0.8417 - acc: 0.7052 - val_loss: 0.8356 - val_acc: 0.7045\n",
      "Epoch 19/100\n",
      "50000/50000 [==============================] - 5s 108us/step - loss: 0.8267 - acc: 0.7117 - val_loss: 0.8561 - val_acc: 0.6985\n",
      "Epoch 20/100\n",
      "50000/50000 [==============================] - 5s 107us/step - loss: 0.8085 - acc: 0.7179 - val_loss: 0.8233 - val_acc: 0.7131\n",
      "Epoch 21/100\n",
      "50000/50000 [==============================] - 5s 106us/step - loss: 0.7933 - acc: 0.7226 - val_loss: 0.7977 - val_acc: 0.7199\n",
      "Epoch 22/100\n",
      "50000/50000 [==============================] - 5s 109us/step - loss: 0.7778 - acc: 0.7302 - val_loss: 0.8201 - val_acc: 0.7181\n",
      "Epoch 23/100\n",
      "50000/50000 [==============================] - 5s 108us/step - loss: 0.7626 - acc: 0.7363 - val_loss: 0.7942 - val_acc: 0.7235\n",
      "Epoch 24/100\n",
      "50000/50000 [==============================] - 5s 109us/step - loss: 0.7526 - acc: 0.7388 - val_loss: 0.7456 - val_acc: 0.7414\n",
      "Epoch 25/100\n",
      "50000/50000 [==============================] - 5s 109us/step - loss: 0.7415 - acc: 0.7404 - val_loss: 0.7441 - val_acc: 0.7401\n",
      "Epoch 26/100\n",
      "50000/50000 [==============================] - 5s 109us/step - loss: 0.7284 - acc: 0.7466 - val_loss: 0.8374 - val_acc: 0.7144\n",
      "Epoch 27/100\n",
      "50000/50000 [==============================] - 5s 108us/step - loss: 0.7187 - acc: 0.7496 - val_loss: 0.7154 - val_acc: 0.7496\n",
      "Epoch 28/100\n",
      "50000/50000 [==============================] - 5s 108us/step - loss: 0.7047 - acc: 0.7533 - val_loss: 0.7289 - val_acc: 0.7461\n",
      "Epoch 29/100\n",
      "50000/50000 [==============================] - 5s 109us/step - loss: 0.6974 - acc: 0.7597 - val_loss: 0.7539 - val_acc: 0.7398\n",
      "Epoch 30/100\n",
      "50000/50000 [==============================] - 5s 109us/step - loss: 0.6891 - acc: 0.7602 - val_loss: 0.7143 - val_acc: 0.7525\n",
      "Epoch 31/100\n",
      "50000/50000 [==============================] - 5s 109us/step - loss: 0.6728 - acc: 0.7665 - val_loss: 0.6947 - val_acc: 0.7601\n",
      "Epoch 32/100\n",
      "50000/50000 [==============================] - 5s 107us/step - loss: 0.6696 - acc: 0.7682 - val_loss: 0.7077 - val_acc: 0.7559\n",
      "Epoch 33/100\n",
      "50000/50000 [==============================] - 5s 108us/step - loss: 0.6645 - acc: 0.7693 - val_loss: 0.7017 - val_acc: 0.7552\n",
      "Epoch 34/100\n",
      "50000/50000 [==============================] - 5s 108us/step - loss: 0.6568 - acc: 0.7731 - val_loss: 0.6862 - val_acc: 0.7658\n",
      "Epoch 35/100\n",
      "50000/50000 [==============================] - 5s 109us/step - loss: 0.6457 - acc: 0.7784 - val_loss: 0.6942 - val_acc: 0.7636\n",
      "Epoch 36/100\n",
      "50000/50000 [==============================] - 5s 108us/step - loss: 0.6453 - acc: 0.7777 - val_loss: 0.6906 - val_acc: 0.7649\n",
      "Epoch 37/100\n",
      "50000/50000 [==============================] - 5s 107us/step - loss: 0.6349 - acc: 0.7809 - val_loss: 0.6767 - val_acc: 0.7686\n",
      "Epoch 38/100\n",
      "50000/50000 [==============================] - 5s 108us/step - loss: 0.6345 - acc: 0.7804 - val_loss: 0.6870 - val_acc: 0.7672\n",
      "Epoch 39/100\n",
      "50000/50000 [==============================] - 5s 108us/step - loss: 0.6315 - acc: 0.7840 - val_loss: 0.6692 - val_acc: 0.7730\n",
      "Epoch 40/100\n",
      "50000/50000 [==============================] - 5s 108us/step - loss: 0.6250 - acc: 0.7843 - val_loss: 0.6761 - val_acc: 0.7700\n",
      "Epoch 41/100\n",
      "50000/50000 [==============================] - 5s 108us/step - loss: 0.6200 - acc: 0.7891 - val_loss: 0.6685 - val_acc: 0.7731\n",
      "Epoch 42/100\n",
      "50000/50000 [==============================] - 5s 108us/step - loss: 0.6151 - acc: 0.7904 - val_loss: 0.6840 - val_acc: 0.7680\n",
      "Epoch 43/100\n",
      "50000/50000 [==============================] - 5s 108us/step - loss: 0.6155 - acc: 0.7888 - val_loss: 0.6539 - val_acc: 0.7825\n",
      "Epoch 44/100\n",
      "50000/50000 [==============================] - 5s 108us/step - loss: 0.6099 - acc: 0.7918 - val_loss: 0.6423 - val_acc: 0.7800\n",
      "Epoch 45/100\n",
      "50000/50000 [==============================] - 5s 108us/step - loss: 0.6087 - acc: 0.7938 - val_loss: 0.6494 - val_acc: 0.7791\n",
      "Epoch 46/100\n",
      "50000/50000 [==============================] - 5s 108us/step - loss: 0.5976 - acc: 0.7958 - val_loss: 0.6929 - val_acc: 0.7663\n",
      "Epoch 47/100\n",
      "50000/50000 [==============================] - 5s 108us/step - loss: 0.5966 - acc: 0.7990 - val_loss: 0.6445 - val_acc: 0.7812\n",
      "Epoch 48/100\n",
      "50000/50000 [==============================] - 5s 108us/step - loss: 0.5983 - acc: 0.7970 - val_loss: 0.6604 - val_acc: 0.7777\n",
      "Epoch 49/100\n",
      "50000/50000 [==============================] - 5s 108us/step - loss: 0.5956 - acc: 0.7986 - val_loss: 0.6538 - val_acc: 0.7803\n",
      "Epoch 50/100\n",
      "50000/50000 [==============================] - 5s 107us/step - loss: 0.5925 - acc: 0.8010 - val_loss: 0.6464 - val_acc: 0.7812\n",
      "Epoch 51/100\n",
      "50000/50000 [==============================] - 6s 115us/step - loss: 0.5924 - acc: 0.7990 - val_loss: 0.6423 - val_acc: 0.7823\n",
      "Epoch 52/100\n",
      "50000/50000 [==============================] - 5s 107us/step - loss: 0.5865 - acc: 0.8038 - val_loss: 0.6964 - val_acc: 0.7689\n",
      "Epoch 53/100\n",
      "50000/50000 [==============================] - 5s 108us/step - loss: 0.5794 - acc: 0.8040 - val_loss: 0.6289 - val_acc: 0.7911\n",
      "Epoch 54/100\n",
      "50000/50000 [==============================] - 6s 121us/step - loss: 0.5779 - acc: 0.8055 - val_loss: 0.6832 - val_acc: 0.7773\n",
      "Epoch 55/100\n",
      "50000/50000 [==============================] - 5s 103us/step - loss: 0.5777 - acc: 0.8063 - val_loss: 0.6256 - val_acc: 0.7896\n",
      "Epoch 56/100\n",
      "50000/50000 [==============================] - 5s 102us/step - loss: 0.5797 - acc: 0.8037 - val_loss: 0.6286 - val_acc: 0.7882\n",
      "Epoch 57/100\n",
      "50000/50000 [==============================] - 5s 101us/step - loss: 0.5778 - acc: 0.8052 - val_loss: 0.6551 - val_acc: 0.7876\n",
      "Epoch 58/100\n",
      "50000/50000 [==============================] - 5s 102us/step - loss: 0.5808 - acc: 0.8065 - val_loss: 0.7092 - val_acc: 0.7672\n",
      "Epoch 59/100\n"
     ]
    },
    {
     "name": "stdout",
     "output_type": "stream",
     "text": [
      "50000/50000 [==============================] - 5s 101us/step - loss: 0.5740 - acc: 0.8070 - val_loss: 0.6462 - val_acc: 0.7869\n",
      "Epoch 60/100\n",
      "50000/50000 [==============================] - 5s 101us/step - loss: 0.5660 - acc: 0.8084 - val_loss: 0.6436 - val_acc: 0.7883\n",
      "Epoch 61/100\n",
      "50000/50000 [==============================] - 5s 101us/step - loss: 0.5719 - acc: 0.8080 - val_loss: 0.6505 - val_acc: 0.7843\n",
      "Epoch 62/100\n",
      "50000/50000 [==============================] - 5s 102us/step - loss: 0.5660 - acc: 0.8079 - val_loss: 0.6207 - val_acc: 0.7932\n",
      "Epoch 63/100\n",
      "50000/50000 [==============================] - 5s 105us/step - loss: 0.5659 - acc: 0.8114 - val_loss: 0.6722 - val_acc: 0.7837\n",
      "Epoch 64/100\n",
      "50000/50000 [==============================] - 5s 109us/step - loss: 0.5621 - acc: 0.8110 - val_loss: 0.6884 - val_acc: 0.7779\n",
      "Epoch 65/100\n",
      "50000/50000 [==============================] - 5s 109us/step - loss: 0.5640 - acc: 0.8111 - val_loss: 0.6361 - val_acc: 0.7911\n",
      "Epoch 66/100\n",
      "50000/50000 [==============================] - 5s 110us/step - loss: 0.5614 - acc: 0.8132 - val_loss: 0.6293 - val_acc: 0.7947\n",
      "Epoch 67/100\n",
      "50000/50000 [==============================] - 5s 108us/step - loss: 0.5615 - acc: 0.8108 - val_loss: 0.6269 - val_acc: 0.7946\n",
      "Epoch 68/100\n",
      "50000/50000 [==============================] - 5s 109us/step - loss: 0.5584 - acc: 0.8137 - val_loss: 0.6336 - val_acc: 0.7937\n",
      "Epoch 69/100\n",
      "50000/50000 [==============================] - 5s 109us/step - loss: 0.5580 - acc: 0.8156 - val_loss: 0.6177 - val_acc: 0.7960\n",
      "Epoch 70/100\n",
      "50000/50000 [==============================] - 5s 109us/step - loss: 0.5574 - acc: 0.8131 - val_loss: 0.6071 - val_acc: 0.7992\n",
      "Epoch 71/100\n",
      "50000/50000 [==============================] - 5s 109us/step - loss: 0.5549 - acc: 0.8150 - val_loss: 0.5990 - val_acc: 0.8003\n",
      "Epoch 72/100\n",
      "50000/50000 [==============================] - 5s 108us/step - loss: 0.5534 - acc: 0.8163 - val_loss: 0.6264 - val_acc: 0.7914\n",
      "Epoch 73/100\n",
      "50000/50000 [==============================] - 5s 109us/step - loss: 0.5523 - acc: 0.8143 - val_loss: 0.6201 - val_acc: 0.7954\n",
      "Epoch 74/100\n",
      "50000/50000 [==============================] - 5s 108us/step - loss: 0.5528 - acc: 0.8175 - val_loss: 0.6507 - val_acc: 0.7942\n",
      "Epoch 75/100\n",
      "50000/50000 [==============================] - 5s 109us/step - loss: 0.5499 - acc: 0.8182 - val_loss: 0.6252 - val_acc: 0.7961\n",
      "Epoch 76/100\n",
      "50000/50000 [==============================] - 5s 109us/step - loss: 0.5513 - acc: 0.8166 - val_loss: 0.6288 - val_acc: 0.7951\n",
      "Epoch 77/100\n",
      "50000/50000 [==============================] - 5s 108us/step - loss: 0.5470 - acc: 0.8191 - val_loss: 0.6239 - val_acc: 0.7927\n",
      "Epoch 78/100\n",
      "50000/50000 [==============================] - 5s 108us/step - loss: 0.5483 - acc: 0.8185 - val_loss: 0.5938 - val_acc: 0.8065\n",
      "Epoch 79/100\n",
      "50000/50000 [==============================] - 5s 110us/step - loss: 0.5460 - acc: 0.8216 - val_loss: 0.6051 - val_acc: 0.8032\n",
      "Epoch 80/100\n",
      "50000/50000 [==============================] - 6s 110us/step - loss: 0.5429 - acc: 0.8182 - val_loss: 0.5949 - val_acc: 0.8037\n",
      "Epoch 81/100\n",
      "50000/50000 [==============================] - 5s 109us/step - loss: 0.5450 - acc: 0.8203 - val_loss: 0.6163 - val_acc: 0.7949\n",
      "Epoch 82/100\n",
      "50000/50000 [==============================] - 6s 110us/step - loss: 0.5448 - acc: 0.8214 - val_loss: 0.6285 - val_acc: 0.7979\n",
      "Epoch 83/100\n",
      "50000/50000 [==============================] - 5s 109us/step - loss: 0.5348 - acc: 0.8215 - val_loss: 0.6506 - val_acc: 0.7882\n",
      "Epoch 84/100\n",
      "50000/50000 [==============================] - 5s 109us/step - loss: 0.5419 - acc: 0.8198 - val_loss: 0.6091 - val_acc: 0.8010\n",
      "Epoch 85/100\n",
      "50000/50000 [==============================] - 5s 106us/step - loss: 0.5411 - acc: 0.8221 - val_loss: 0.6840 - val_acc: 0.7899\n",
      "Epoch 86/100\n",
      "50000/50000 [==============================] - 5s 100us/step - loss: 0.5419 - acc: 0.8205 - val_loss: 0.6048 - val_acc: 0.8029\n",
      "Epoch 87/100\n",
      "50000/50000 [==============================] - 5s 102us/step - loss: 0.5396 - acc: 0.8223 - val_loss: 0.6141 - val_acc: 0.7980\n",
      "Epoch 88/100\n",
      "50000/50000 [==============================] - 5s 102us/step - loss: 0.5307 - acc: 0.8237 - val_loss: 0.5958 - val_acc: 0.8028\n",
      "Epoch 89/100\n",
      "50000/50000 [==============================] - 5s 101us/step - loss: 0.5386 - acc: 0.8213 - val_loss: 0.6114 - val_acc: 0.7985\n",
      "Epoch 90/100\n",
      "50000/50000 [==============================] - 5s 102us/step - loss: 0.5321 - acc: 0.8222 - val_loss: 0.6308 - val_acc: 0.7936\n",
      "Epoch 91/100\n",
      "50000/50000 [==============================] - 5s 102us/step - loss: 0.5361 - acc: 0.8250 - val_loss: 0.6372 - val_acc: 0.7937\n",
      "Epoch 92/100\n",
      "50000/50000 [==============================] - 5s 105us/step - loss: 0.5297 - acc: 0.8262 - val_loss: 0.6154 - val_acc: 0.7985\n",
      "Epoch 93/100\n",
      "50000/50000 [==============================] - 5s 101us/step - loss: 0.5382 - acc: 0.8218 - val_loss: 0.6801 - val_acc: 0.7801\n",
      "Epoch 94/100\n",
      "50000/50000 [==============================] - 5s 103us/step - loss: 0.5333 - acc: 0.8255 - val_loss: 0.6595 - val_acc: 0.7842\n",
      "Epoch 95/100\n",
      "50000/50000 [==============================] - 5s 101us/step - loss: 0.5368 - acc: 0.8230 - val_loss: 0.6061 - val_acc: 0.8043\n",
      "Epoch 96/100\n",
      "50000/50000 [==============================] - 5s 101us/step - loss: 0.5350 - acc: 0.8256 - val_loss: 0.6305 - val_acc: 0.7979\n",
      "Epoch 97/100\n",
      "50000/50000 [==============================] - 5s 104us/step - loss: 0.5343 - acc: 0.8225 - val_loss: 0.6402 - val_acc: 0.7919\n",
      "Epoch 98/100\n",
      "50000/50000 [==============================] - 5s 109us/step - loss: 0.5368 - acc: 0.8245 - val_loss: 0.5931 - val_acc: 0.8035\n",
      "Epoch 99/100\n",
      "50000/50000 [==============================] - 5s 108us/step - loss: 0.5285 - acc: 0.8244 - val_loss: 0.6132 - val_acc: 0.7998\n",
      "Epoch 100/100\n",
      "50000/50000 [==============================] - 5s 108us/step - loss: 0.5341 - acc: 0.8239 - val_loss: 0.6229 - val_acc: 0.7965\n"
     ]
    }
   ],
   "source": [
    "# set data_augmentation to True or False in the constants cell\n",
    "\n",
    "if not data_augmentation:\n",
    "    print('Not using data augmentation.')\n",
    "    history = model.fit(x_train, y_train,\n",
    "              batch_size=batch_size,\n",
    "              epochs=epochs,\n",
    "              validation_data=(x_test, y_test),\n",
    "              shuffle=True)\n",
    "else:\n",
    "    print('Using real-time data augmentation.')\n",
    "    # This will do preprocessing and realtime data augmentation:\n",
    "    datagen = ImageDataGenerator(\n",
    "        featurewise_center=False,  # set input mean to 0 over the dataset\n",
    "        samplewise_center=False,  # set each sample mean to 0\n",
    "        featurewise_std_normalization=False,  # divide inputs by std of the dataset\n",
    "        samplewise_std_normalization=False,  # divide each input by its std\n",
    "        zca_whitening=False,  # apply ZCA whitening\n",
    "        zca_epsilon=1e-06,  # epsilon for ZCA whitening\n",
    "        rotation_range=0,  # randomly rotate images in the range (degrees, 0 to 180)\n",
    "        # randomly shift images horizontally (fraction of total width)\n",
    "        width_shift_range=0.1,\n",
    "        # randomly shift images vertically (fraction of total height)\n",
    "        height_shift_range=0.1,\n",
    "        shear_range=0.,  # set range for random shear\n",
    "        zoom_range=0.,  # set range for random zoom\n",
    "        channel_shift_range=0.,  # set range for random channel shifts\n",
    "        # set mode for filling points outside the input boundaries\n",
    "        fill_mode='nearest',\n",
    "        cval=0.,  # value used for fill_mode = \"constant\"\n",
    "        horizontal_flip=True,  # randomly flip images\n",
    "        vertical_flip=False,  # randomly flip images\n",
    "        # set rescaling factor (applied before any other transformation)\n",
    "        rescale=None,\n",
    "        # set function that will be applied on each input\n",
    "        preprocessing_function=None,\n",
    "        # image data format, either \"channels_first\" or \"channels_last\"\n",
    "        data_format=None,\n",
    "        # fraction of images reserved for validation (strictly between 0 and 1)\n",
    "        validation_split=0.0)\n",
    "\n",
    "    # Compute quantities required for feature-wise normalization\n",
    "    # (std, mean, and principal components if ZCA whitening is applied).\n",
    "    datagen.fit(x_train)\n",
    "\n",
    "    # Fit the model on the batches generated by datagen.flow().\n",
    "    history = model.fit_generator(datagen.flow(x_train, y_train,\n",
    "                                     batch_size=batch_size),\n",
    "                        epochs=epochs,\n",
    "                        validation_data=(x_test, y_test),\n",
    "                        workers=12,\n",
    "                        use_multiprocessing=True,\n",
    "                       steps_per_epoch=x_train.shape[0] // batch_size\n",
    "                       )"
   ]
  },
  {
   "cell_type": "code",
   "execution_count": 18,
   "metadata": {},
   "outputs": [
    {
     "name": "stdout",
     "output_type": "stream",
     "text": [
      "Saved trained model at ../data/keras_cifar10_trained_model.h5 \n"
     ]
    }
   ],
   "source": [
    "# Save model and weights\n",
    "if not os.path.isdir(save_dir):\n",
    "    os.makedirs(save_dir)\n",
    "model_path = os.path.join(save_dir, model_name)\n",
    "model.save(model_path)\n",
    "print('Saved trained model at %s ' % model_path)"
   ]
  },
  {
   "cell_type": "code",
   "execution_count": 41,
   "metadata": {},
   "outputs": [
    {
     "name": "stdout",
     "output_type": "stream",
     "text": [
      "10000/10000 [==============================] - 1s 58us/step\n",
      "Test loss: 0.6229440188884735\n",
      "Test accuracy: 0.7965\n"
     ]
    }
   ],
   "source": [
    "# Score trained model.\n",
    "scores = model.evaluate(x_test, y_test, verbose=1)\n",
    "print('Test loss:', scores[0])\n",
    "print('Test accuracy:', scores[1])"
   ]
  },
  {
   "cell_type": "code",
   "execution_count": null,
   "metadata": {},
   "outputs": [],
   "source": []
  }
 ],
 "metadata": {
  "kernelspec": {
   "display_name": "Python 3",
   "language": "python",
   "name": "python3"
  },
  "language_info": {
   "codemirror_mode": {
    "name": "ipython",
    "version": 3
   },
   "file_extension": ".py",
   "mimetype": "text/x-python",
   "name": "python",
   "nbconvert_exporter": "python",
   "pygments_lexer": "ipython3",
   "version": "3.7.4"
  },
  "toc": {
   "base_numbering": 1,
   "nav_menu": {},
   "number_sections": true,
   "sideBar": true,
   "skip_h1_title": false,
   "title_cell": "Table of Contents",
   "title_sidebar": "Contents",
   "toc_cell": false,
   "toc_position": {},
   "toc_section_display": true,
   "toc_window_display": false
  },
  "varInspector": {
   "cols": {
    "lenName": 16,
    "lenType": 16,
    "lenVar": 40
   },
   "kernels_config": {
    "python": {
     "delete_cmd_postfix": "",
     "delete_cmd_prefix": "del ",
     "library": "var_list.py",
     "varRefreshCmd": "print(var_dic_list())"
    },
    "r": {
     "delete_cmd_postfix": ") ",
     "delete_cmd_prefix": "rm(",
     "library": "var_list.r",
     "varRefreshCmd": "cat(var_dic_list()) "
    }
   },
   "types_to_exclude": [
    "module",
    "function",
    "builtin_function_or_method",
    "instance",
    "_Feature"
   ],
   "window_display": false
  }
 },
 "nbformat": 4,
 "nbformat_minor": 2
}
