{
 "cells": [
  {
   "cell_type": "code",
   "execution_count": null,
   "metadata": {},
   "outputs": [],
   "source": [
    "from keras.models import load_model\n",
    "import config\n",
    "import numpy as np\n",
    "from callbacks import plot_predictions"
   ]
  },
  {
   "cell_type": "code",
   "execution_count": null,
   "metadata": {},
   "outputs": [],
   "source": []
  },
  {
   "cell_type": "code",
   "execution_count": null,
   "metadata": {},
   "outputs": [],
   "source": [
    "# ========================== VALIDATION ========================== #\n",
    "print()\n",
    "print('----- FINAL VALIDATION -----')\n",
    "\n",
    "model = load_model(config.model.full_path)\n",
    "x_val_pred = model.predict(x_val, verbose=1, batch_size=config.model_params.batch_size)\n",
    "model.evaluate(x=x_val, y=y_val, batch_size=config.model_params.batch_size)\n",
    "# simple threshold to change to 1/0, mask\n",
    "x_val_pred_mask = (x_val_pred > 0.5).astype(np.uint8)\n",
    "\n",
    "plot_predictions(\n",
    "    original=x_val, predicted=x_val_pred, predicted_mask=x_val_pred_mask, ground_truth=y_val\n",
    ")"
   ]
  }
 ],
 "metadata": {
  "language_info": {
   "name": "python"
  },
  "orig_nbformat": 4
 },
 "nbformat": 4,
 "nbformat_minor": 2
}
