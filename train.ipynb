{
 "cells": [
  {
   "cell_type": "code",
   "execution_count": 3,
   "metadata": {},
   "outputs": [
    {
     "ename": "ImportError",
     "evalue": "cannot import name 'batch_stacker' from 'helpers' (/Users/chris/github/projects/object_detection_keras_unet/helpers.py)",
     "output_type": "error",
     "traceback": [
      "\u001b[0;31m---------------------------------------------------------------------------\u001b[0m",
      "\u001b[0;31mImportError\u001b[0m                               Traceback (most recent call last)",
      "\u001b[1;32m/Users/chris/github/projects/object_detection_keras_unet/train.ipynb Cell 1'\u001b[0m in \u001b[0;36m<cell line: 12>\u001b[0;34m()\u001b[0m\n\u001b[1;32m     <a href='vscode-notebook-cell:/Users/chris/github/projects/object_detection_keras_unet/train.ipynb#ch0000000?line=9'>10</a>\u001b[0m \u001b[39mimport\u001b[39;00m \u001b[39mconfig\u001b[39;00m\n\u001b[1;32m     <a href='vscode-notebook-cell:/Users/chris/github/projects/object_detection_keras_unet/train.ipynb#ch0000000?line=10'>11</a>\u001b[0m \u001b[39mfrom\u001b[39;00m \u001b[39mcallbacks\u001b[39;00m \u001b[39mimport\u001b[39;00m ValPlotCallback, plot_predictions\n\u001b[0;32m---> <a href='vscode-notebook-cell:/Users/chris/github/projects/object_detection_keras_unet/train.ipynb#ch0000000?line=11'>12</a>\u001b[0m \u001b[39mfrom\u001b[39;00m \u001b[39mhelpers\u001b[39;00m \u001b[39mimport\u001b[39;00m (\n\u001b[1;32m     <a href='vscode-notebook-cell:/Users/chris/github/projects/object_detection_keras_unet/train.ipynb#ch0000000?line=12'>13</a>\u001b[0m     batch_stacker,\n\u001b[1;32m     <a href='vscode-notebook-cell:/Users/chris/github/projects/object_detection_keras_unet/train.ipynb#ch0000000?line=13'>14</a>\u001b[0m     create_batches,\n\u001b[1;32m     <a href='vscode-notebook-cell:/Users/chris/github/projects/object_detection_keras_unet/train.ipynb#ch0000000?line=14'>15</a>\u001b[0m     print_array_properties,\n\u001b[1;32m     <a href='vscode-notebook-cell:/Users/chris/github/projects/object_detection_keras_unet/train.ipynb#ch0000000?line=15'>16</a>\u001b[0m )\n\u001b[1;32m     <a href='vscode-notebook-cell:/Users/chris/github/projects/object_detection_keras_unet/train.ipynb#ch0000000?line=16'>17</a>\u001b[0m \u001b[39mfrom\u001b[39;00m \u001b[39mmodel\u001b[39;00m \u001b[39mimport\u001b[39;00m make_model\n\u001b[1;32m     <a href='vscode-notebook-cell:/Users/chris/github/projects/object_detection_keras_unet/train.ipynb#ch0000000?line=18'>19</a>\u001b[0m get_ipython()\u001b[39m.\u001b[39mrun_line_magic(\u001b[39m'\u001b[39m\u001b[39mmatplotlib\u001b[39m\u001b[39m'\u001b[39m, \u001b[39m'\u001b[39m\u001b[39minline\u001b[39m\u001b[39m'\u001b[39m)\n",
      "\u001b[0;31mImportError\u001b[0m: cannot import name 'batch_stacker' from 'helpers' (/Users/chris/github/projects/object_detection_keras_unet/helpers.py)"
     ]
    }
   ],
   "source": [
    "import random\n",
    "\n",
    "import numpy as np\n",
    "from keras.callbacks import EarlyStopping, ModelCheckpoint, TensorBoard\n",
    "from keras.layers import Input\n",
    "from keras.models import load_model\n",
    "from keras.preprocessing.image import ImageDataGenerator\n",
    "from sklearn.model_selection import train_test_split\n",
    "\n",
    "import config\n",
    "from callbacks import ValPlotCallback, plot_predictions\n",
    "from helpers import (\n",
    "    batch_stacker,\n",
    "    create_batches,\n",
    "    print_array_properties,\n",
    ")\n",
    "from model import make_model\n",
    "\n",
    "%matplotlib inline\n",
    "%load_ext autoreload\n",
    "%autoreload 2\n"
   ]
  },
  {
   "cell_type": "code",
   "execution_count": null,
   "metadata": {},
   "outputs": [],
   "source": [
    "train_image_path = config.main.train_image_path\n",
    "mask_image_path = config.main.train_mask_path\n",
    "\n",
    "filenames = [f.name for f in train_image_path.glob('*.tif')]\n",
    "random.shuffle(filenames)  # does this help training?\n",
    "\n",
    "train_files = [str(train_image_path / name) for name in filenames]\n",
    "mask_files = [str(mask_image_path / name) for name in filenames]\n",
    "\n",
    "train_img_batches = create_batches(train_files, batch_size=config.model_params.batch_size)\n",
    "train_mask_batches = create_batches(mask_files, batch_size=config.model_params.batch_size)\n",
    "\n",
    "train_stack = batch_stacker(\n",
    "    train_img_batches, resize=(config.image.resize_width, config.image.resize_height)\n",
    ")\n",
    "mask_stack = batch_stacker(\n",
    "    train_mask_batches, resize=(config.image.resize_width, config.image.resize_height), gray=True\n",
    ")\n",
    "\n",
    "for batch_number, (train_batch, mask_batch) in enumerate(zip(train_stack, mask_stack), start=1):\n",
    "    print(f'BATCH NUMBER {batch_number}')\n",
    "\n",
    "    x_train, x_val, y_train, y_val = train_test_split(\n",
    "        train_batch,\n",
    "        mask_batch,\n",
    "        random_state=config.main.SEED,\n",
    "        test_size=config.model.train_val_split_size,\n",
    "    )\n",
    "    if batch_number == 1:\n",
    "        print_array_properties('x_train', x_train)\n",
    "        print_array_properties('y_train', y_train)\n",
    "        print_array_properties('x_val', x_val)\n",
    "        print_array_properties('y_val', y_val)\n",
    "\n",
    "    inputs = Input(shape=(x_train.shape[1:]))\n",
    "\n",
    "    if config.model.pretrained or batch_number > 1:\n",
    "        print('Loading Trained Model')\n",
    "        model = load_model(config.model.full_path)\n",
    "    else:\n",
    "        print('Creating New Model')\n",
    "        model = make_model(inputs=inputs, name=config.model.name)\n",
    "        model.compile(\n",
    "            optimizer=config.model.optimizer, loss=config.model.loss, metrics=config.model.metrics\n",
    "        )\n",
    "        if config.model.print_summary:\n",
    "            print(model.summary())\n",
    "\n",
    "    early_stop = EarlyStopping(patience=5, verbose=1)\n",
    "    check_point = ModelCheckpoint(config.model.full_path, save_best_only=True, verbose=1)\n",
    "    tensor_board = TensorBoard(**config.tensorboard.as_dict())\n",
    "    validation_plots = ValPlotCallback(\n",
    "        model=model, batch_size=config.model_params.batch_size, x_val=x_val, y_val=y_val\n",
    "    )\n",
    "\n",
    "    model_fit_params = dict(\n",
    "        validation_data=(x_val, y_val),\n",
    "        steps_per_epoch=max(x_train.shape[0] // config.model_params.batch_size, 1),\n",
    "        validation_steps=max(\n",
    "            (x_train.shape[0] // config.model_params.batch_size)\n",
    "            * config.model.train_val_split_size,\n",
    "            1,\n",
    "        ),\n",
    "        callbacks=[early_stop, check_point, tensor_board, validation_plots],\n",
    "    )\n",
    "    if config.model.data_augmentation:\n",
    "        print('Using Data Augmentation')\n",
    "        image_datagen = ImageDataGenerator(**config.datagen_params.as_dict())\n",
    "        mask_datagen = ImageDataGenerator(**config.datagen_params.as_dict())\n",
    "\n",
    "        image_datagen.fit(x_train, augment=True, seed=config.main.SEED)\n",
    "        mask_datagen.fit(y_train, augment=True, seed=config.main.SEED)\n",
    "\n",
    "        image_generator = image_datagen.flow(x_train, seed=config.main.SEED)\n",
    "        mask_generator = mask_datagen.flow(y_train, seed=config.main.SEED)\n",
    "\n",
    "        train_generator = zip(image_generator, mask_generator)\n",
    "\n",
    "        model.fit(train_generator, **{**config.model_params.as_dict(), **model_fit_params})\n",
    "    else:\n",
    "        print('Not Using Data Augmentation')\n",
    "        model.fit(x=x_train, y=y_train, **{**config.model_params.as_dict(), **model_fit_params})\n",
    "\n",
    "        if batch_number == 1:  # to prevent loading an old model on second epoch\n",
    "            model.save(config.model.full_path)\n",
    "\n",
    "\n",
    "\n"
   ]
  },
  {
   "cell_type": "code",
   "execution_count": 4,
   "metadata": {},
   "outputs": [
    {
     "name": "stdout",
     "output_type": "stream",
     "text": [
      "\n",
      "----- FINAL VALIDATION -----\n"
     ]
    },
    {
     "name": "stderr",
     "output_type": "stream",
     "text": [
      "2022-06-07 21:44:39.845322: I tensorflow/core/platform/cpu_feature_guard.cc:193] This TensorFlow binary is optimized with oneAPI Deep Neural Network Library (oneDNN) to use the following CPU instructions in performance-critical operations:  AVX2 FMA\n",
      "To enable them in other operations, rebuild TensorFlow with the appropriate compiler flags.\n"
     ]
    },
    {
     "ename": "NameError",
     "evalue": "name 'x_val' is not defined",
     "output_type": "error",
     "traceback": [
      "\u001b[0;31m---------------------------------------------------------------------------\u001b[0m",
      "\u001b[0;31mNameError\u001b[0m                                 Traceback (most recent call last)",
      "\u001b[1;32m/Users/chris/github/projects/object_detection_keras_unet/train.ipynb Cell 3'\u001b[0m in \u001b[0;36m<cell line: 6>\u001b[0;34m()\u001b[0m\n\u001b[1;32m      <a href='vscode-notebook-cell:/Users/chris/github/projects/object_detection_keras_unet/train.ipynb#ch0000002?line=2'>3</a>\u001b[0m \u001b[39mprint\u001b[39m(\u001b[39m'\u001b[39m\u001b[39m----- FINAL VALIDATION -----\u001b[39m\u001b[39m'\u001b[39m)\n\u001b[1;32m      <a href='vscode-notebook-cell:/Users/chris/github/projects/object_detection_keras_unet/train.ipynb#ch0000002?line=4'>5</a>\u001b[0m model \u001b[39m=\u001b[39m load_model(config\u001b[39m.\u001b[39mmodel\u001b[39m.\u001b[39mfull_path)\n\u001b[0;32m----> <a href='vscode-notebook-cell:/Users/chris/github/projects/object_detection_keras_unet/train.ipynb#ch0000002?line=5'>6</a>\u001b[0m x_val_pred \u001b[39m=\u001b[39m model\u001b[39m.\u001b[39mpredict(x_val, verbose\u001b[39m=\u001b[39m\u001b[39m1\u001b[39m, batch_size\u001b[39m=\u001b[39mconfig\u001b[39m.\u001b[39mmodel_params\u001b[39m.\u001b[39mbatch_size)\n\u001b[1;32m      <a href='vscode-notebook-cell:/Users/chris/github/projects/object_detection_keras_unet/train.ipynb#ch0000002?line=6'>7</a>\u001b[0m model\u001b[39m.\u001b[39mevaluate(x\u001b[39m=\u001b[39mx_val, y\u001b[39m=\u001b[39my_val, batch_size\u001b[39m=\u001b[39mconfig\u001b[39m.\u001b[39mmodel_params\u001b[39m.\u001b[39mbatch_size)\n\u001b[1;32m      <a href='vscode-notebook-cell:/Users/chris/github/projects/object_detection_keras_unet/train.ipynb#ch0000002?line=7'>8</a>\u001b[0m \u001b[39m# simple threshold to change to 1/0, mask\u001b[39;00m\n",
      "\u001b[0;31mNameError\u001b[0m: name 'x_val' is not defined"
     ]
    }
   ],
   "source": [
    "# ========================== VALIDATION ========================== #\n",
    "print()\n",
    "print('----- FINAL VALIDATION -----')\n",
    "\n",
    "model = load_model(config.model.full_path)\n",
    "x_val_pred = model.predict(x_val, verbose=1, batch_size=config.model_params.batch_size)\n",
    "model.evaluate(x=x_val, y=y_val, batch_size=config.model_params.batch_size)\n",
    "# simple threshold to change to 1/0, mask\n",
    "x_val_pred_mask = (x_val_pred > 0.5).astype(np.uint8)\n",
    "\n",
    "plot_predictions(\n",
    "    original=x_val, predicted=x_val_pred, predicted_mask=x_val_pred_mask, ground_truth=y_val\n",
    ")"
   ]
  },
  {
   "cell_type": "code",
   "execution_count": null,
   "metadata": {},
   "outputs": [],
   "source": []
  }
 ],
 "metadata": {
  "interpreter": {
   "hash": "7cca29d56564b7cec1d60ca6d75a12513a3462fa36dc05318b6fa4375581983a"
  },
  "kernelspec": {
   "display_name": "Python 3.10.2 ('.venv': poetry)",
   "language": "python",
   "name": "python3"
  },
  "language_info": {
   "codemirror_mode": {
    "name": "ipython",
    "version": 3
   },
   "file_extension": ".py",
   "mimetype": "text/x-python",
   "name": "python",
   "nbconvert_exporter": "python",
   "pygments_lexer": "ipython3",
   "version": "3.10.2"
  },
  "toc": {
   "base_numbering": 1,
   "nav_menu": {},
   "number_sections": true,
   "sideBar": true,
   "skip_h1_title": false,
   "title_cell": "Table of Contents",
   "title_sidebar": "Contents",
   "toc_cell": false,
   "toc_position": {},
   "toc_section_display": true,
   "toc_window_display": false
  },
  "varInspector": {
   "cols": {
    "lenName": 16,
    "lenType": 16,
    "lenVar": 40
   },
   "kernels_config": {
    "python": {
     "delete_cmd_postfix": "",
     "delete_cmd_prefix": "del ",
     "library": "var_list.py",
     "varRefreshCmd": "print(var_dic_list())"
    },
    "r": {
     "delete_cmd_postfix": ") ",
     "delete_cmd_prefix": "rm(",
     "library": "var_list.r",
     "varRefreshCmd": "cat(var_dic_list()) "
    }
   },
   "types_to_exclude": [
    "module",
    "function",
    "builtin_function_or_method",
    "instance",
    "_Feature"
   ],
   "window_display": false
  }
 },
 "nbformat": 4,
 "nbformat_minor": 2
}
